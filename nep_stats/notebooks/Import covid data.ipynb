{
 "cells": [
  {
   "cell_type": "code",
   "execution_count": 5,
   "metadata": {},
   "outputs": [],
   "source": [
    "import logging\n",
    "logging.basicConfig(format='%(name)s %(asctime)s %(levelname)s: %(message)s', level=logging.DEBUG, datefmt='%I:%M:%S')"
   ]
  },
  {
   "cell_type": "code",
   "execution_count": 6,
   "metadata": {},
   "outputs": [],
   "source": [
    "import os\n",
    "from nep_stats.covid.db import models\n",
    "from nep_stats.config import session_scope, engine\n",
    "import nep_stats.covid.data_import.loaders as data_loaders\n",
    "from bipad_api import ApiApi"
   ]
  },
  {
   "cell_type": "code",
   "execution_count": 7,
   "metadata": {},
   "outputs": [],
   "source": [
    "models.Base.metadata.create_all(engine)"
   ]
  },
  {
   "cell_type": "code",
   "execution_count": 8,
   "metadata": {},
   "outputs": [
    {
     "name": "stderr",
     "output_type": "stream",
     "text": [
      "CountryDatabaseLoader 10:52:43 INFO: Fetching entities from API\n",
      "CountryDatabaseLoader 10:52:43 INFO: fetching using limit 500, offset 0\n",
      "CountryDatabaseLoader 10:52:43 INFO: fetching using limit 500, offset 500\n",
      "CountryDatabaseLoader 10:52:43 INFO: 251 Entities from API fetched\n",
      "CountryDatabaseLoader 10:52:43 INFO: Loading existing items from db\n",
      "CountryDatabaseLoader 10:52:43 INFO: 251 existing from db loaded\n",
      "ProvinceDatabaseLoader 10:52:43 INFO: Fetching entities from API\n",
      "ProvinceDatabaseLoader 10:52:43 INFO: fetching using limit 500, offset 0\n",
      "ProvinceDatabaseLoader 10:52:43 INFO: fetching using limit 500, offset 500\n",
      "ProvinceDatabaseLoader 10:52:43 INFO: 7 Entities from API fetched\n",
      "ProvinceDatabaseLoader 10:52:43 INFO: Loading existing items from db\n",
      "ProvinceDatabaseLoader 10:52:43 INFO: 7 existing from db loaded\n",
      "DistrictDatabaseLoader 10:52:43 INFO: Fetching entities from API\n",
      "DistrictDatabaseLoader 10:52:43 INFO: fetching using limit 500, offset 0\n",
      "DistrictDatabaseLoader 10:52:44 INFO: fetching using limit 500, offset 500\n",
      "DistrictDatabaseLoader 10:52:44 INFO: 77 Entities from API fetched\n",
      "DistrictDatabaseLoader 10:52:44 INFO: Loading existing items from db\n",
      "DistrictDatabaseLoader 10:52:44 INFO: 77 existing from db loaded\n",
      "MunicipalityDatabaseLoader 10:52:44 INFO: Fetching entities from API\n",
      "MunicipalityDatabaseLoader 10:52:44 INFO: fetching using limit 500, offset 0\n",
      "MunicipalityDatabaseLoader 10:52:44 INFO: fetching using limit 500, offset 500\n",
      "MunicipalityDatabaseLoader 10:52:44 INFO: fetching using limit 500, offset 1000\n",
      "MunicipalityDatabaseLoader 10:52:44 INFO: 774 Entities from API fetched\n",
      "MunicipalityDatabaseLoader 10:52:44 INFO: Loading existing items from db\n",
      "MunicipalityDatabaseLoader 10:52:44 INFO: 774 existing from db loaded\n",
      "WardDatabaseLoader 10:52:44 INFO: Fetching entities from API\n",
      "WardDatabaseLoader 10:52:44 INFO: fetching using limit 500, offset 0\n",
      "WardDatabaseLoader 10:52:44 INFO: fetching using limit 500, offset 500\n",
      "WardDatabaseLoader 10:52:44 INFO: fetching using limit 500, offset 1000\n",
      "WardDatabaseLoader 10:52:44 INFO: fetching using limit 500, offset 1500\n",
      "WardDatabaseLoader 10:52:46 INFO: fetching using limit 500, offset 2000\n",
      "WardDatabaseLoader 10:52:46 INFO: fetching using limit 500, offset 2500\n",
      "WardDatabaseLoader 10:52:47 INFO: fetching using limit 500, offset 3000\n",
      "WardDatabaseLoader 10:52:47 INFO: fetching using limit 500, offset 3500\n",
      "WardDatabaseLoader 10:52:47 INFO: fetching using limit 500, offset 4000\n",
      "WardDatabaseLoader 10:52:47 INFO: fetching using limit 500, offset 4500\n",
      "WardDatabaseLoader 10:52:47 INFO: fetching using limit 500, offset 5000\n",
      "WardDatabaseLoader 10:52:47 INFO: fetching using limit 500, offset 5500\n",
      "WardDatabaseLoader 10:52:48 INFO: fetching using limit 500, offset 6000\n",
      "WardDatabaseLoader 10:52:48 INFO: fetching using limit 500, offset 6500\n",
      "WardDatabaseLoader 10:52:48 INFO: fetching using limit 500, offset 7000\n",
      "WardDatabaseLoader 10:52:48 INFO: 6803 Entities from API fetched\n",
      "WardDatabaseLoader 10:52:48 INFO: Loading existing items from db\n",
      "WardDatabaseLoader 10:52:48 INFO: 6803 existing from db loaded\n",
      "CovidCaseDatabaseLoader 10:52:48 INFO: Fetching entities from API\n",
      "CovidCaseDatabaseLoader 10:52:48 INFO: fetching using limit 500, offset 0\n",
      "CovidCaseDatabaseLoader 10:52:51 INFO: fetching using limit 500, offset 500\n",
      "CovidCaseDatabaseLoader 10:52:54 INFO: fetching using limit 500, offset 1000\n",
      "CovidCaseDatabaseLoader 10:52:57 INFO: fetching using limit 500, offset 1500\n",
      "CovidCaseDatabaseLoader 10:53:03 INFO: fetching using limit 500, offset 2000\n",
      "CovidCaseDatabaseLoader 10:53:05 INFO: fetching using limit 500, offset 2500\n",
      "CovidCaseDatabaseLoader 10:53:07 INFO: fetching using limit 500, offset 3000\n",
      "CovidCaseDatabaseLoader 10:53:10 INFO: fetching using limit 500, offset 3500\n",
      "CovidCaseDatabaseLoader 10:53:13 INFO: fetching using limit 500, offset 4000\n",
      "CovidCaseDatabaseLoader 10:53:16 INFO: fetching using limit 500, offset 4500\n",
      "CovidCaseDatabaseLoader 10:53:18 INFO: fetching using limit 500, offset 5000\n",
      "CovidCaseDatabaseLoader 10:53:24 INFO: fetching using limit 500, offset 5500\n",
      "CovidCaseDatabaseLoader 10:53:25 INFO: fetching using limit 500, offset 6000\n",
      "CovidCaseDatabaseLoader 10:53:25 INFO: 5760 Entities from API fetched\n",
      "CovidCaseDatabaseLoader 10:53:25 INFO: Loading existing items from db\n",
      "CovidCaseDatabaseLoader 10:53:25 INFO: 4614 existing from db loaded\n",
      "QuarantineInfoDatabaseLoader 10:53:26 INFO: Fetching entities from API\n",
      "QuarantineInfoDatabaseLoader 10:53:26 INFO: fetching using limit 500, offset 0\n",
      "QuarantineInfoDatabaseLoader 10:53:28 INFO: fetching using limit 500, offset 500\n",
      "QuarantineInfoDatabaseLoader 10:53:32 INFO: fetching using limit 500, offset 1000\n",
      "QuarantineInfoDatabaseLoader 10:53:35 INFO: fetching using limit 500, offset 1500\n",
      "QuarantineInfoDatabaseLoader 10:53:37 INFO: fetching using limit 500, offset 2000\n",
      "QuarantineInfoDatabaseLoader 10:53:40 INFO: fetching using limit 500, offset 2500\n",
      "QuarantineInfoDatabaseLoader 10:53:42 INFO: fetching using limit 500, offset 3000\n",
      "QuarantineInfoDatabaseLoader 10:53:44 INFO: fetching using limit 500, offset 3500\n",
      "QuarantineInfoDatabaseLoader 10:53:48 INFO: fetching using limit 500, offset 4000\n",
      "QuarantineInfoDatabaseLoader 10:53:48 INFO: fetching using limit 500, offset 4500\n",
      "QuarantineInfoDatabaseLoader 10:53:48 INFO: 4031 Entities from API fetched\n",
      "QuarantineInfoDatabaseLoader 10:53:48 INFO: Loading existing items from db\n",
      "QuarantineInfoDatabaseLoader 10:53:49 INFO: 3950 existing from db loaded\n"
     ]
    }
   ],
   "source": [
    "api_client = ApiApi()\n",
    "\n",
    "loaders = [data_loaders.CountryDatabaseLoader,\n",
    "    data_loaders.ProvinceDatabaseLoader,\n",
    "    data_loaders.DistrictDatabaseLoader,\n",
    "    data_loaders.MunicipalityDatabaseLoader,\n",
    "    data_loaders.WardDatabaseLoader,\n",
    "    data_loaders.CovidCaseDatabaseLoader,\n",
    "    data_loaders.QuarantineInfoDatabaseLoader,\n",
    "]\n",
    "\n",
    "for l in loaders:\n",
    "    l(session_scope=session_scope, api_client=api_client).load()"
   ]
  },
  {
   "cell_type": "code",
   "execution_count": null,
   "metadata": {},
   "outputs": [],
   "source": []
  },
  {
   "cell_type": "code",
   "execution_count": null,
   "metadata": {},
   "outputs": [],
   "source": []
  }
 ],
 "metadata": {
  "kernelspec": {
   "display_name": "Python 3",
   "language": "python",
   "name": "python3"
  },
  "language_info": {
   "codemirror_mode": {
    "name": "ipython",
    "version": 3
   },
   "file_extension": ".py",
   "mimetype": "text/x-python",
   "name": "python",
   "nbconvert_exporter": "python",
   "pygments_lexer": "ipython3",
   "version": "3.7.3"
  }
 },
 "nbformat": 4,
 "nbformat_minor": 2
}
